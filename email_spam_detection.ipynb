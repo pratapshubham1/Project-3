{
 "cells": [
  {
   "cell_type": "code",
   "execution_count": 3,
   "metadata": {},
   "outputs": [],
   "source": [
    "import pandas as pd\n",
    "from sklearn.feature_extraction.text import CountVectorizer\n",
    "from sklearn import svm\n",
    "import nltk\n",
    "from nltk.corpus import stopwords\n",
    "import string"
   ]
  },
  {
   "cell_type": "code",
   "execution_count": 4,
   "metadata": {
    "scrolled": true
   },
   "outputs": [
    {
     "data": {
      "text/html": [
       "<div>\n",
       "<style scoped>\n",
       "    .dataframe tbody tr th:only-of-type {\n",
       "        vertical-align: middle;\n",
       "    }\n",
       "\n",
       "    .dataframe tbody tr th {\n",
       "        vertical-align: top;\n",
       "    }\n",
       "\n",
       "    .dataframe thead th {\n",
       "        text-align: right;\n",
       "    }\n",
       "</style>\n",
       "<table border=\"1\" class=\"dataframe\">\n",
       "  <thead>\n",
       "    <tr style=\"text-align: right;\">\n",
       "      <th></th>\n",
       "      <th>Label</th>\n",
       "      <th>EmailText</th>\n",
       "    </tr>\n",
       "  </thead>\n",
       "  <tbody>\n",
       "    <tr>\n",
       "      <th>0</th>\n",
       "      <td>ham</td>\n",
       "      <td>Go until jurong point, crazy.. Available only ...</td>\n",
       "    </tr>\n",
       "    <tr>\n",
       "      <th>1</th>\n",
       "      <td>ham</td>\n",
       "      <td>Ok lar... Joking wif u oni...</td>\n",
       "    </tr>\n",
       "    <tr>\n",
       "      <th>2</th>\n",
       "      <td>spam</td>\n",
       "      <td>Free entry in 2 a wkly comp to win FA Cup fina...</td>\n",
       "    </tr>\n",
       "    <tr>\n",
       "      <th>3</th>\n",
       "      <td>ham</td>\n",
       "      <td>U dun say so early hor... U c already then say...</td>\n",
       "    </tr>\n",
       "    <tr>\n",
       "      <th>4</th>\n",
       "      <td>ham</td>\n",
       "      <td>Nah I don't think he goes to usf, he lives aro...</td>\n",
       "    </tr>\n",
       "  </tbody>\n",
       "</table>\n",
       "</div>"
      ],
      "text/plain": [
       "  Label                                          EmailText\n",
       "0   ham  Go until jurong point, crazy.. Available only ...\n",
       "1   ham                      Ok lar... Joking wif u oni...\n",
       "2  spam  Free entry in 2 a wkly comp to win FA Cup fina...\n",
       "3   ham  U dun say so early hor... U c already then say...\n",
       "4   ham  Nah I don't think he goes to usf, he lives aro..."
      ]
     },
     "execution_count": 4,
     "metadata": {},
     "output_type": "execute_result"
    }
   ],
   "source": [
    "#load dataset\n",
    "data=pd.read_csv(\"C:\\\\Users\\\\HP\\\\Desktop\\\\Projects\\\\EMailSpam\\\\spam.csv\")\n",
    "data.head()"
   ]
  },
  {
   "cell_type": "code",
   "execution_count": 5,
   "metadata": {},
   "outputs": [
    {
     "data": {
      "text/plain": [
       "(5572, 2)"
      ]
     },
     "execution_count": 5,
     "metadata": {},
     "output_type": "execute_result"
    }
   ],
   "source": [
    "## no of rows and columns\n",
    "data.shape"
   ]
  },
  {
   "cell_type": "code",
   "execution_count": 6,
   "metadata": {},
   "outputs": [
    {
     "data": {
      "text/plain": [
       "Index(['Label', 'EmailText'], dtype='object')"
      ]
     },
     "execution_count": 6,
     "metadata": {},
     "output_type": "execute_result"
    }
   ],
   "source": [
    "### column names\n",
    "data.columns"
   ]
  },
  {
   "cell_type": "code",
   "execution_count": 7,
   "metadata": {},
   "outputs": [
    {
     "data": {
      "text/plain": [
       "(5169, 2)"
      ]
     },
     "execution_count": 7,
     "metadata": {},
     "output_type": "execute_result"
    }
   ],
   "source": [
    "### checking duplicates and removing items\n",
    "data.drop_duplicates(inplace=True)\n",
    "data.shape"
   ]
  },
  {
   "cell_type": "code",
   "execution_count": 8,
   "metadata": {},
   "outputs": [
    {
     "data": {
      "text/plain": [
       "Label        0\n",
       "EmailText    0\n",
       "dtype: int64"
      ]
     },
     "execution_count": 8,
     "metadata": {},
     "output_type": "execute_result"
    }
   ],
   "source": [
    "### show no. of missing data for each column\n",
    "data.isnull().sum()"
   ]
  },
  {
   "cell_type": "code",
   "execution_count": 9,
   "metadata": {},
   "outputs": [
    {
     "name": "stdout",
     "output_type": "stream",
     "text": [
      "Percentage for default\n",
      "\n",
      "ham     87.37\n",
      "spam    12.63\n",
      "Name: Label, dtype: float64\n"
     ]
    },
    {
     "data": {
      "image/png": "[encoded data removed]",
      "text/plain": [
       "<Figure size 432x288 with 1 Axes>"
      ]
     },
     "metadata": {
      "needs_background": "light"
     },
     "output_type": "display_data"
    }
   ],
   "source": [
    "### checking for the distribution of label[] column\n",
    "import matplotlib.pyplot as plt\n",
    "%matplotlib inline\n",
    "print(\"Percentage for default\\n\")\n",
    "print(round(data.Label.value_counts(normalize=True)*100,2))\n",
    "round(data.Label.value_counts(normalize=True)*100,2).plot(kind='bar')\n",
    "plt.title('Percentage Distributions of label column')\n",
    "plt.show()"
   ]
  },
  {
   "cell_type": "code",
   "execution_count": 10,
   "metadata": {},
   "outputs": [
    {
     "name": "stderr",
     "output_type": "stream",
     "text": [
      "[nltk_data] Downloading package stopwords to\n",
      "[nltk_data]     C:\\Users\\HP\\AppData\\Roaming\\nltk_data...\n",
      "[nltk_data]   Unzipping corpora\\stopwords.zip.\n"
     ]
    },
    {
     "data": {
      "text/plain": [
       "True"
      ]
     },
     "execution_count": 10,
     "metadata": {},
     "output_type": "execute_result"
    }
   ],
   "source": [
    "### download stopwords\n",
    "nltk.download('stopwords')"
   ]
  },
  {
   "cell_type": "code",
   "execution_count": 11,
   "metadata": {},
   "outputs": [],
   "source": [
    "### Tokenization\n",
    "\n",
    "def process_text(text):\n",
    "    \n",
    "    ##  remove punctuation\n",
    "      nopunc = [char for char in text if char not in string.punctuation]\n",
    "      nopunc = ''.join(nopunc)\n",
    "    \n",
    "    ## remove stopwords\n",
    "      clean_words = [word for word in nopunc.split() if word.lower() not in stopwords.words('english')]\n",
    "        \n",
    "    ## return list of clean words\n",
    "      return clean_words"
   ]
  },
  {
   "cell_type": "code",
   "execution_count": 12,
   "metadata": {},
   "outputs": [
    {
     "data": {
      "text/plain": [
       "0    [Go, jurong, point, crazy, Available, bugis, n...\n",
       "1                       [Ok, lar, Joking, wif, u, oni]\n",
       "2    [Free, entry, 2, wkly, comp, win, FA, Cup, fin...\n",
       "3        [U, dun, say, early, hor, U, c, already, say]\n",
       "4    [Nah, dont, think, goes, usf, lives, around, t...\n",
       "Name: EmailText, dtype: object"
      ]
     },
     "execution_count": 12,
     "metadata": {},
     "output_type": "execute_result"
    }
   ],
   "source": [
    "data['EmailText'].head().apply(process_text)"
   ]
  },
  {
   "cell_type": "code",
   "execution_count": 13,
   "metadata": {},
   "outputs": [],
   "source": [
    "from sklearn.feature_extraction.text import CountVectorizer\n",
    "\n",
    "msg = CountVectorizer(analyzer=process_text).fit_transform(data['EmailText'])"
   ]
  },
  {
   "cell_type": "code",
   "execution_count": 14,
   "metadata": {},
   "outputs": [],
   "source": [
    "## split data into 80% training and 20% testing datasets\n",
    "from sklearn.model_selection import train_test_split\n",
    "X_train, X_test, Y_train, Y_test = train_test_split(msg, data['Label'], test_size = 0.20, random_state = 0)"
   ]
  },
  {
   "cell_type": "code",
   "execution_count": 15,
   "metadata": {},
   "outputs": [
    {
     "data": {
      "text/plain": [
       "(5169, 11304)"
      ]
     },
     "execution_count": 15,
     "metadata": {},
     "output_type": "execute_result"
    }
   ],
   "source": [
    "### shape of msg\n",
    "msg.shape"
   ]
  },
  {
   "cell_type": "markdown",
   "metadata": {},
   "source": [
    "# models used as classifier"
   ]
  },
  {
   "cell_type": "code",
   "execution_count": 16,
   "metadata": {},
   "outputs": [],
   "source": [
    "model_names=['SVM','Naive_bayes','Logistic_regression','k-nearest_neighbor','Decision_tree']\n",
    "model_train_scores=[]\n",
    "model_test_scores=[]\n",
    "train_precision_score=[]\n",
    "test_precision_score=[]\n",
    "train_recall_score=[]\n",
    "test_recall_score=[]"
   ]
  },
  {
   "cell_type": "markdown",
   "metadata": {},
   "source": [
    "# modelling using Support vector machine algo"
   ]
  },
  {
   "cell_type": "code",
   "execution_count": 17,
   "metadata": {},
   "outputs": [
    {
     "data": {
      "text/plain": [
       "SVC()"
      ]
     },
     "execution_count": 17,
     "metadata": {},
     "output_type": "execute_result"
    }
   ],
   "source": [
    "### support vector machine\n",
    "from sklearn import svm\n",
    "model = svm.SVC()\n",
    "model.fit(X_train,Y_train)"
   ]
  },
  {
   "cell_type": "code",
   "execution_count": 18,
   "metadata": {},
   "outputs": [
    {
     "name": "stdout",
     "output_type": "stream",
     "text": [
      "Predicted values :  ['ham' 'ham' 'ham' ... 'ham' 'ham' 'ham']\n",
      "Actual Values :  ['ham' 'ham' 'ham' ... 'ham' 'ham' 'ham']\n"
     ]
    }
   ],
   "source": [
    "##print predictions on train dataset\n",
    "svm_pred = model.predict(X_train)\n",
    "print('Predicted values : ',svm_pred)\n",
    "##print actual values on train dataset\n",
    "print('Actual Values : ',Y_train.values)"
   ]
  },
  {
   "cell_type": "code",
   "execution_count": 19,
   "metadata": {},
   "outputs": [
    {
     "name": "stdout",
     "output_type": "stream",
     "text": [
      "              precision    recall  f1-score   support\n",
      "\n",
      "         ham       0.99      1.00      1.00      3631\n",
      "        spam       1.00      0.95      0.98       504\n",
      "\n",
      "    accuracy                           0.99      4135\n",
      "   macro avg       1.00      0.98      0.99      4135\n",
      "weighted avg       0.99      0.99      0.99      4135\n",
      "\n",
      "confusion matrix :\n",
      " [[3631    0]\n",
      " [  24  480]]\n"
     ]
    }
   ],
   "source": [
    "### evaluate model on training datasets using SVM classifier\n",
    "from sklearn.metrics import classification_report, confusion_matrix, accuracy_score\n",
    " \n",
    "print(classification_report(Y_train,svm_pred))\n",
    "\n",
    "train_svm_mat=confusion_matrix(Y_train,svm_pred)\n",
    "print(\"confusion matrix :\\n\",train_svm_mat)\n",
    "\n",
    "model_train_scores.append(accuracy_score(Y_train,svm_pred))\n"
   ]
  },
  {
   "cell_type": "code",
   "execution_count": 20,
   "metadata": {},
   "outputs": [],
   "source": [
    "### defining precision and recall\n",
    "def precision(TP,FP):\n",
    "    return(TP/(TP+FP))\n",
    "\n",
    "def recall(TP,FN):\n",
    "    return(TP/(TP+FN))"
   ]
  },
  {
   "cell_type": "code",
   "execution_count": 21,
   "metadata": {},
   "outputs": [],
   "source": [
    "###  evaluating precision and recall on train dataset\n",
    "train_precision_score.append(precision(train_svm_mat[0][0],train_svm_mat[0][1]))\n",
    "train_recall_score.append(recall(train_svm_mat[0][0],train_svm_mat[1][0]))"
   ]
  },
  {
   "cell_type": "code",
   "execution_count": 22,
   "metadata": {},
   "outputs": [
    {
     "name": "stdout",
     "output_type": "stream",
     "text": [
      "              precision    recall  f1-score   support\n",
      "\n",
      "         ham       0.95      1.00      0.98       885\n",
      "        spam       1.00      0.72      0.84       149\n",
      "\n",
      "    accuracy                           0.96      1034\n",
      "   macro avg       0.98      0.86      0.91      1034\n",
      "weighted avg       0.96      0.96      0.96      1034\n",
      "\n",
      "confusion matrix :\n",
      " [[885   0]\n",
      " [ 42 107]]\n"
     ]
    }
   ],
   "source": [
    "### evaluate model on test dataset using svm algorithm\n",
    "svm_pred_test = model.predict(X_test)\n",
    "print(classification_report(Y_test,svm_pred_test))\n",
    "\n",
    "test_svm_mat=confusion_matrix(Y_test, svm_pred_test)\n",
    "\n",
    "print(\"confusion matrix :\\n\",test_svm_mat)\n",
    "model_test_scores.append(accuracy_score(Y_test, svm_pred_test))"
   ]
  },
  {
   "cell_type": "code",
   "execution_count": 23,
   "metadata": {},
   "outputs": [
    {
     "name": "stdout",
     "output_type": "stream",
     "text": [
      "Predicted values :  ['ham' 'ham' 'ham' ... 'ham' 'ham' 'ham']\n",
      "Actual Values :  ['ham' 'ham' 'ham' ... 'ham' 'ham' 'ham']\n"
     ]
    }
   ],
   "source": [
    "##print predictions on test dataset\n",
    "svm_pred_test = model.predict(X_test)\n",
    "print('Predicted values : ',svm_pred_test)\n",
    "##print actual values on test dataset\n",
    "print('Actual Values : ',Y_test.values)"
   ]
  },
  {
   "cell_type": "code",
   "execution_count": 24,
   "metadata": {},
   "outputs": [],
   "source": [
    "###  evaluating precision and recall on test dataset\n",
    "test_precision_score.append(precision(test_svm_mat[0][0],test_svm_mat[0][1]))\n",
    "test_recall_score.append(recall(test_svm_mat[0][0],test_svm_mat[1][0]))"
   ]
  },
  {
   "cell_type": "markdown",
   "metadata": {},
   "source": [
    "# modelling using Naive bayes algo"
   ]
  },
  {
   "cell_type": "code",
   "execution_count": 25,
   "metadata": {},
   "outputs": [
    {
     "data": {
      "text/plain": [
       "MultinomialNB()"
      ]
     },
     "execution_count": 25,
     "metadata": {},
     "output_type": "execute_result"
    }
   ],
   "source": [
    "### using naive bayes\n",
    "from sklearn.naive_bayes import MultinomialNB\n",
    "model2 = MultinomialNB()\n",
    "model2.fit(X_train,Y_train)"
   ]
  },
  {
   "cell_type": "code",
   "execution_count": 26,
   "metadata": {
    "scrolled": false
   },
   "outputs": [
    {
     "name": "stdout",
     "output_type": "stream",
     "text": [
      "              precision    recall  f1-score   support\n",
      "\n",
      "         ham       1.00      1.00      1.00      3631\n",
      "        spam       0.98      0.98      0.98       504\n",
      "\n",
      "    accuracy                           1.00      4135\n",
      "   macro avg       0.99      0.99      0.99      4135\n",
      "weighted avg       1.00      1.00      1.00      4135\n",
      "\n",
      "Confusion matrix :\n",
      "  [[3623    8]\n",
      " [  11  493]]\n"
     ]
    }
   ],
   "source": [
    "### evaluate model on training datasets using naive bayes ml algorithm\n",
    "naive_pred = model2.predict(X_train)\n",
    "print(classification_report(Y_train,naive_pred))\n",
    "\n",
    "train_naive_mat = confusion_matrix(Y_train,naive_pred)\n",
    "print('Confusion matrix :\\n ',train_naive_mat)\n",
    "\n",
    "model_train_scores.append(accuracy_score(Y_train, naive_pred))"
   ]
  },
  {
   "cell_type": "code",
   "execution_count": 27,
   "metadata": {},
   "outputs": [],
   "source": [
    "###  evaluating precision and recall on train dataset\n",
    "train_precision_score.append(precision(train_naive_mat[0][0],train_naive_mat[0][1]))\n",
    "train_recall_score.append(recall(train_naive_mat[0][0],train_naive_mat[1][0]))"
   ]
  },
  {
   "cell_type": "code",
   "execution_count": 28,
   "metadata": {},
   "outputs": [
    {
     "name": "stdout",
     "output_type": "stream",
     "text": [
      "              precision    recall  f1-score   support\n",
      "\n",
      "         ham       0.99      0.96      0.97       885\n",
      "        spam       0.80      0.93      0.86       149\n",
      "\n",
      "    accuracy                           0.96      1034\n",
      "   macro avg       0.89      0.94      0.92      1034\n",
      "weighted avg       0.96      0.96      0.96      1034\n",
      "\n",
      "Confusion matrix :\n",
      "  [[850  35]\n",
      " [ 11 138]]\n"
     ]
    }
   ],
   "source": [
    "### evaluate model on test dataset using naive bayes ml algorithm\n",
    "naive_pred_test = model2.predict(X_test)\n",
    "print(classification_report(Y_test,naive_pred_test))\n",
    "\n",
    "test_naive_mat = confusion_matrix(Y_test,naive_pred_test)\n",
    "print('Confusion matrix :\\n ',test_naive_mat)\n",
    "\n",
    "model_test_scores.append(accuracy_score(Y_test,naive_pred_test))"
   ]
  },
  {
   "cell_type": "code",
   "execution_count": 29,
   "metadata": {},
   "outputs": [],
   "source": [
    "###  evaluating precision and recall on test dataset\n",
    "test_precision_score.append(precision(test_naive_mat[0][0],test_naive_mat[0][1]))\n",
    "test_recall_score.append(recall(test_naive_mat[0][0],test_naive_mat[1][0]))"
   ]
  },
  {
   "cell_type": "markdown",
   "metadata": {},
   "source": [
    "# modelling using Logistic regression"
   ]
  },
  {
   "cell_type": "code",
   "execution_count": 30,
   "metadata": {},
   "outputs": [
    {
     "data": {
      "text/plain": [
       "LogisticRegression()"
      ]
     },
     "execution_count": 30,
     "metadata": {},
     "output_type": "execute_result"
    }
   ],
   "source": [
    "### using logistic regression\n",
    "from sklearn.linear_model import LogisticRegression\n",
    "model3=LogisticRegression()\n",
    "model3.fit(X_train,Y_train)"
   ]
  },
  {
   "cell_type": "code",
   "execution_count": 31,
   "metadata": {},
   "outputs": [
    {
     "name": "stdout",
     "output_type": "stream",
     "text": [
      "              precision    recall  f1-score   support\n",
      "\n",
      "         ham       0.99      1.00      1.00      3631\n",
      "        spam       1.00      0.96      0.98       504\n",
      "\n",
      "    accuracy                           1.00      4135\n",
      "   macro avg       1.00      0.98      0.99      4135\n",
      "weighted avg       1.00      1.00      1.00      4135\n",
      "\n",
      "Confusion matrix :\n",
      "  [[3631    0]\n",
      " [  20  484]]\n"
     ]
    }
   ],
   "source": [
    "### evaluate model on training datasets using logistic regression ml algorithm\n",
    "logistic_pred = model3.predict(X_train)\n",
    "print(classification_report(Y_train,logistic_pred))\n",
    "\n",
    "train_logistic_mat = confusion_matrix(Y_train,logistic_pred)\n",
    "print('Confusion matrix :\\n ',train_logistic_mat)\n",
    "\n",
    "model_train_scores.append(accuracy_score(Y_train, logistic_pred))"
   ]
  },
  {
   "cell_type": "code",
   "execution_count": 32,
   "metadata": {},
   "outputs": [],
   "source": [
    "###  evaluating precision and recall on train dataset\n",
    "train_precision_score.append(precision(train_logistic_mat[0][0],train_logistic_mat[0][1]))\n",
    "train_recall_score.append(recall(train_logistic_mat[0][0],train_logistic_mat[1][0]))"
   ]
  },
  {
   "cell_type": "code",
   "execution_count": 33,
   "metadata": {},
   "outputs": [
    {
     "name": "stdout",
     "output_type": "stream",
     "text": [
      "              precision    recall  f1-score   support\n",
      "\n",
      "         ham       0.97      1.00      0.99       885\n",
      "        spam       1.00      0.85      0.92       149\n",
      "\n",
      "    accuracy                           0.98      1034\n",
      "   macro avg       0.99      0.92      0.95      1034\n",
      "weighted avg       0.98      0.98      0.98      1034\n",
      "\n",
      "Confusion matrix :\n",
      "  [[885   0]\n",
      " [ 23 126]]\n"
     ]
    }
   ],
   "source": [
    "### evaluate model on test dataset using logistic regression algorithm\n",
    "logistic_pred_test = model3.predict(X_test)\n",
    "print(classification_report(Y_test,logistic_pred_test))\n",
    "\n",
    "test_logistic_mat = confusion_matrix(Y_test,logistic_pred_test)\n",
    "print('Confusion matrix :\\n ',test_logistic_mat)\n",
    "\n",
    "model_test_scores.append(accuracy_score(Y_test,logistic_pred_test))"
   ]
  },
  {
   "cell_type": "code",
   "execution_count": 34,
   "metadata": {},
   "outputs": [],
   "source": [
    "###  evaluating precision and recall on test dataset\n",
    "test_precision_score.append(precision(test_logistic_mat[0][0],test_logistic_mat[0][1]))\n",
    "test_recall_score.append(recall(test_logistic_mat[0][0],test_logistic_mat[1][0]))"
   ]
  },
  {
   "cell_type": "markdown",
   "metadata": {},
   "source": [
    "# modelling using k-nearest neighbor classifier"
   ]
  },
  {
   "cell_type": "code",
   "execution_count": 35,
   "metadata": {},
   "outputs": [
    {
     "data": {
      "text/plain": [
       "KNeighborsClassifier(n_neighbors=3)"
      ]
     },
     "execution_count": 35,
     "metadata": {},
     "output_type": "execute_result"
    }
   ],
   "source": [
    "### using k-nearest neighbor classifier\n",
    "from sklearn.neighbors import KNeighborsClassifier\n",
    "model4=KNeighborsClassifier(n_neighbors=3)\n",
    "model4.fit(X_train,Y_train)"
   ]
  },
  {
   "cell_type": "code",
   "execution_count": 36,
   "metadata": {},
   "outputs": [
    {
     "name": "stdout",
     "output_type": "stream",
     "text": [
      "              precision    recall  f1-score   support\n",
      "\n",
      "         ham       0.94      1.00      0.97      3631\n",
      "        spam       1.00      0.51      0.68       504\n",
      "\n",
      "    accuracy                           0.94      4135\n",
      "   macro avg       0.97      0.75      0.82      4135\n",
      "weighted avg       0.94      0.94      0.93      4135\n",
      "\n",
      "Confusion matrix :\n",
      "  [[3631    0]\n",
      " [ 247  257]]\n"
     ]
    }
   ],
   "source": [
    "### evaluate model on training datasets using k-nearest neighbor ml algorithm\n",
    "knn_pred = model4.predict(X_train)\n",
    "print(classification_report(Y_train,knn_pred))\n",
    "\n",
    "train_knn_mat = confusion_matrix(Y_train,knn_pred)\n",
    "print('Confusion matrix :\\n ',train_knn_mat)\n",
    "\n",
    "model_train_scores.append(accuracy_score(Y_train, knn_pred))"
   ]
  },
  {
   "cell_type": "code",
   "execution_count": 37,
   "metadata": {},
   "outputs": [],
   "source": [
    "###  evaluating precision and recall on train dataset\n",
    "train_precision_score.append(precision(train_knn_mat[0][0],train_knn_mat[0][1]))\n",
    "train_recall_score.append(recall(train_knn_mat[0][0],train_knn_mat[1][0]))"
   ]
  },
  {
   "cell_type": "code",
   "execution_count": 38,
   "metadata": {},
   "outputs": [
    {
     "name": "stdout",
     "output_type": "stream",
     "text": [
      "              precision    recall  f1-score   support\n",
      "\n",
      "         ham       0.90      1.00      0.95       885\n",
      "        spam       1.00      0.33      0.49       149\n",
      "\n",
      "    accuracy                           0.90      1034\n",
      "   macro avg       0.95      0.66      0.72      1034\n",
      "weighted avg       0.91      0.90      0.88      1034\n",
      "\n",
      "Confusion matrix :\n",
      "  [[885   0]\n",
      " [100  49]]\n"
     ]
    }
   ],
   "source": [
    "### evaluate model on test dataset using k-nearest neighbor algorithm\n",
    "knn_pred_test = model4.predict(X_test)\n",
    "print(classification_report(Y_test,knn_pred_test))\n",
    "\n",
    "test_knn_mat = confusion_matrix(Y_test,knn_pred_test)\n",
    "print('Confusion matrix :\\n ',test_knn_mat)\n",
    "\n",
    "model_test_scores.append(accuracy_score(Y_test,knn_pred_test))"
   ]
  },
  {
   "cell_type": "code",
   "execution_count": 39,
   "metadata": {},
   "outputs": [],
   "source": [
    "###  evaluating precision and recall on test dataset\n",
    "test_precision_score.append(precision(test_knn_mat[0][0],test_knn_mat[0][1]))\n",
    "test_recall_score.append(recall(test_knn_mat[0][0],test_knn_mat[1][0]))"
   ]
  },
  {
   "cell_type": "markdown",
   "metadata": {},
   "source": [
    "# modelling using decision tree classifier"
   ]
  },
  {
   "cell_type": "code",
   "execution_count": 40,
   "metadata": {},
   "outputs": [
    {
     "data": {
      "text/plain": [
       "DecisionTreeClassifier()"
      ]
     },
     "execution_count": 40,
     "metadata": {},
     "output_type": "execute_result"
    }
   ],
   "source": [
    "### using decision-tree classifier\n",
    "from sklearn.tree import DecisionTreeClassifier\n",
    "model5=DecisionTreeClassifier()\n",
    "model5.fit(X_train,Y_train)"
   ]
  },
  {
   "cell_type": "code",
   "execution_count": 41,
   "metadata": {},
   "outputs": [
    {
     "name": "stdout",
     "output_type": "stream",
     "text": [
      "              precision    recall  f1-score   support\n",
      "\n",
      "         ham       1.00      1.00      1.00      3631\n",
      "        spam       1.00      1.00      1.00       504\n",
      "\n",
      "    accuracy                           1.00      4135\n",
      "   macro avg       1.00      1.00      1.00      4135\n",
      "weighted avg       1.00      1.00      1.00      4135\n",
      "\n",
      "Confusion matrix :\n",
      "  [[3631    0]\n",
      " [   0  504]]\n"
     ]
    }
   ],
   "source": [
    "### evaluate model on training datasets using decision-tree classifier\n",
    "tree_pred = model5.predict(X_train)\n",
    "print(classification_report(Y_train,tree_pred))\n",
    "\n",
    "train_tree_mat = confusion_matrix(Y_train,tree_pred)\n",
    "print('Confusion matrix :\\n ',train_tree_mat)\n",
    "\n",
    "model_train_scores.append(accuracy_score(Y_train, tree_pred))"
   ]
  },
  {
   "cell_type": "code",
   "execution_count": 42,
   "metadata": {},
   "outputs": [],
   "source": [
    "###  evaluating precision and recall on train dataset\n",
    "train_precision_score.append(precision(train_tree_mat[0][0],train_tree_mat[0][1]))\n",
    "train_recall_score.append(recall(train_tree_mat[0][0],train_tree_mat[1][0]))"
   ]
  },
  {
   "cell_type": "code",
   "execution_count": 43,
   "metadata": {},
   "outputs": [
    {
     "name": "stdout",
     "output_type": "stream",
     "text": [
      "              precision    recall  f1-score   support\n",
      "\n",
      "         ham       0.97      0.99      0.98       885\n",
      "        spam       0.93      0.83      0.88       149\n",
      "\n",
      "    accuracy                           0.97      1034\n",
      "   macro avg       0.95      0.91      0.93      1034\n",
      "weighted avg       0.97      0.97      0.97      1034\n",
      "\n",
      "Confusion matrix :\n",
      "  [[876   9]\n",
      " [ 25 124]]\n"
     ]
    }
   ],
   "source": [
    "### evaluate model on test dataset using decision-tree classifier algorithm\n",
    "tree_pred_test = model5.predict(X_test)\n",
    "print(classification_report(Y_test,tree_pred_test))\n",
    "\n",
    "test_tree_mat = confusion_matrix(Y_test,tree_pred_test)\n",
    "print('Confusion matrix :\\n ',test_tree_mat)\n",
    "\n",
    "model_test_scores.append(accuracy_score(Y_test,tree_pred_test))"
   ]
  },
  {
   "cell_type": "code",
   "execution_count": 44,
   "metadata": {},
   "outputs": [],
   "source": [
    "###  evaluating precision and recall on test dataset\n",
    "test_precision_score.append(precision(test_tree_mat[0][0],test_tree_mat[0][1]))\n",
    "test_recall_score.append(recall(test_tree_mat[0][0],test_tree_mat[1][0]))"
   ]
  },
  {
   "cell_type": "markdown",
   "metadata": {},
   "source": [
    "# model performance analysis"
   ]
  },
  {
   "cell_type": "code",
   "execution_count": 45,
   "metadata": {},
   "outputs": [
    {
     "data": {
      "text/html": [
       "<div>\n",
       "<style scoped>\n",
       "    .dataframe tbody tr th:only-of-type {\n",
       "        vertical-align: middle;\n",
       "    }\n",
       "\n",
       "    .dataframe tbody tr th {\n",
       "        vertical-align: top;\n",
       "    }\n",
       "\n",
       "    .dataframe thead th {\n",
       "        text-align: right;\n",
       "    }\n",
       "</style>\n",
       "<table border=\"1\" class=\"dataframe\">\n",
       "  <thead>\n",
       "    <tr style=\"text-align: right;\">\n",
       "      <th></th>\n",
       "      <th>names</th>\n",
       "      <th>train_score</th>\n",
       "      <th>test_score</th>\n",
       "      <th>precision_score(train)</th>\n",
       "      <th>precision_score(test)</th>\n",
       "      <th>recall_score(train)</th>\n",
       "      <th>recall_score(test)</th>\n",
       "    </tr>\n",
       "  </thead>\n",
       "  <tbody>\n",
       "    <tr>\n",
       "      <th>0</th>\n",
       "      <td>SVM</td>\n",
       "      <td>0.994196</td>\n",
       "      <td>0.959381</td>\n",
       "      <td>1.000000</td>\n",
       "      <td>1.000000</td>\n",
       "      <td>0.993434</td>\n",
       "      <td>0.954693</td>\n",
       "    </tr>\n",
       "    <tr>\n",
       "      <th>1</th>\n",
       "      <td>Naive_bayes</td>\n",
       "      <td>0.995405</td>\n",
       "      <td>0.955513</td>\n",
       "      <td>0.997797</td>\n",
       "      <td>0.960452</td>\n",
       "      <td>0.996973</td>\n",
       "      <td>0.987224</td>\n",
       "    </tr>\n",
       "    <tr>\n",
       "      <th>2</th>\n",
       "      <td>Logistic_regression</td>\n",
       "      <td>0.995163</td>\n",
       "      <td>0.977756</td>\n",
       "      <td>1.000000</td>\n",
       "      <td>1.000000</td>\n",
       "      <td>0.994522</td>\n",
       "      <td>0.974670</td>\n",
       "    </tr>\n",
       "    <tr>\n",
       "      <th>3</th>\n",
       "      <td>k-nearest_neighbor</td>\n",
       "      <td>0.940266</td>\n",
       "      <td>0.903288</td>\n",
       "      <td>1.000000</td>\n",
       "      <td>1.000000</td>\n",
       "      <td>0.936307</td>\n",
       "      <td>0.898477</td>\n",
       "    </tr>\n",
       "    <tr>\n",
       "      <th>4</th>\n",
       "      <td>Decision_tree</td>\n",
       "      <td>1.000000</td>\n",
       "      <td>0.967118</td>\n",
       "      <td>1.000000</td>\n",
       "      <td>0.989831</td>\n",
       "      <td>1.000000</td>\n",
       "      <td>0.972253</td>\n",
       "    </tr>\n",
       "  </tbody>\n",
       "</table>\n",
       "</div>"
      ],
      "text/plain": [
       "                 names  train_score  test_score  precision_score(train)  \\\n",
       "0                  SVM     0.994196    0.959381                1.000000   \n",
       "1          Naive_bayes     0.995405    0.955513                0.997797   \n",
       "2  Logistic_regression     0.995163    0.977756                1.000000   \n",
       "3   k-nearest_neighbor     0.940266    0.903288                1.000000   \n",
       "4        Decision_tree     1.000000    0.967118                1.000000   \n",
       "\n",
       "   precision_score(test)  recall_score(train)  recall_score(test)  \n",
       "0               1.000000             0.993434            0.954693  \n",
       "1               0.960452             0.996973            0.987224  \n",
       "2               1.000000             0.994522            0.974670  \n",
       "3               1.000000             0.936307            0.898477  \n",
       "4               0.989831             1.000000            0.972253  "
      ]
     },
     "execution_count": 45,
     "metadata": {},
     "output_type": "execute_result"
    }
   ],
   "source": [
    "df = pd.DataFrame()\n",
    "df['names'] = model_names\n",
    "df['train_score'] = model_train_scores\n",
    "df['test_score'] = model_test_scores\n",
    "df['precision_score(train)'] = train_precision_score\n",
    "df['precision_score(test)'] = test_precision_score\n",
    "df['recall_score(train)'] = train_recall_score\n",
    "df['recall_score(test)'] = test_recall_score\n",
    "df"
   ]
  },
  {
   "cell_type": "code",
   "execution_count": 46,
   "metadata": {},
   "outputs": [
    {
     "data": {
      "text/html": [
       "<style  type=\"text/css\" >\n",
       "    #T_4f90b731_038b_11ec_98a3_28cdc446e5d4row0_col1 {\n",
       "            background-color:  #168c16;\n",
       "            color:  #000000;\n",
       "        }    #T_4f90b731_038b_11ec_98a3_28cdc446e5d4row0_col2 {\n",
       "            background-color:  #399f39;\n",
       "            color:  #000000;\n",
       "        }    #T_4f90b731_038b_11ec_98a3_28cdc446e5d4row0_col3 {\n",
       "            background-color:  #008000;\n",
       "            color:  #f1f1f1;\n",
       "        }    #T_4f90b731_038b_11ec_98a3_28cdc446e5d4row0_col4 {\n",
       "            background-color:  #008000;\n",
       "            color:  #f1f1f1;\n",
       "        }    #T_4f90b731_038b_11ec_98a3_28cdc446e5d4row0_col5 {\n",
       "            background-color:  #178d17;\n",
       "            color:  #000000;\n",
       "        }    #T_4f90b731_038b_11ec_98a3_28cdc446e5d4row0_col6 {\n",
       "            background-color:  #54ae54;\n",
       "            color:  #000000;\n",
       "        }    #T_4f90b731_038b_11ec_98a3_28cdc446e5d4row1_col1 {\n",
       "            background-color:  #118911;\n",
       "            color:  #f1f1f1;\n",
       "        }    #T_4f90b731_038b_11ec_98a3_28cdc446e5d4row1_col2 {\n",
       "            background-color:  #44a644;\n",
       "            color:  #000000;\n",
       "        }    #T_4f90b731_038b_11ec_98a3_28cdc446e5d4row1_col3 {\n",
       "            background-color:  #e5ffe5;\n",
       "            color:  #000000;\n",
       "        }    #T_4f90b731_038b_11ec_98a3_28cdc446e5d4row1_col4 {\n",
       "            background-color:  #e5ffe5;\n",
       "            color:  #000000;\n",
       "        }    #T_4f90b731_038b_11ec_98a3_28cdc446e5d4row1_col5 {\n",
       "            background-color:  #0b860b;\n",
       "            color:  #f1f1f1;\n",
       "        }    #T_4f90b731_038b_11ec_98a3_28cdc446e5d4row1_col6 {\n",
       "            background-color:  #008000;\n",
       "            color:  #f1f1f1;\n",
       "        }    #T_4f90b731_038b_11ec_98a3_28cdc446e5d4row2_col1 {\n",
       "            background-color:  #128a12;\n",
       "            color:  #f1f1f1;\n",
       "        }    #T_4f90b731_038b_11ec_98a3_28cdc446e5d4row2_col2 {\n",
       "            background-color:  #008000;\n",
       "            color:  #f1f1f1;\n",
       "        }    #T_4f90b731_038b_11ec_98a3_28cdc446e5d4row2_col3 {\n",
       "            background-color:  #008000;\n",
       "            color:  #f1f1f1;\n",
       "        }    #T_4f90b731_038b_11ec_98a3_28cdc446e5d4row2_col4 {\n",
       "            background-color:  #008000;\n",
       "            color:  #f1f1f1;\n",
       "        }    #T_4f90b731_038b_11ec_98a3_28cdc446e5d4row2_col5 {\n",
       "            background-color:  #148b14;\n",
       "            color:  #000000;\n",
       "        }    #T_4f90b731_038b_11ec_98a3_28cdc446e5d4row2_col6 {\n",
       "            background-color:  #209220;\n",
       "            color:  #000000;\n",
       "        }    #T_4f90b731_038b_11ec_98a3_28cdc446e5d4row3_col1 {\n",
       "            background-color:  #e5ffe5;\n",
       "            color:  #000000;\n",
       "        }    #T_4f90b731_038b_11ec_98a3_28cdc446e5d4row3_col2 {\n",
       "            background-color:  #e5ffe5;\n",
       "            color:  #000000;\n",
       "        }    #T_4f90b731_038b_11ec_98a3_28cdc446e5d4row3_col3 {\n",
       "            background-color:  #008000;\n",
       "            color:  #f1f1f1;\n",
       "        }    #T_4f90b731_038b_11ec_98a3_28cdc446e5d4row3_col4 {\n",
       "            background-color:  #008000;\n",
       "            color:  #f1f1f1;\n",
       "        }    #T_4f90b731_038b_11ec_98a3_28cdc446e5d4row3_col5 {\n",
       "            background-color:  #e5ffe5;\n",
       "            color:  #000000;\n",
       "        }    #T_4f90b731_038b_11ec_98a3_28cdc446e5d4row3_col6 {\n",
       "            background-color:  #e5ffe5;\n",
       "            color:  #000000;\n",
       "        }    #T_4f90b731_038b_11ec_98a3_28cdc446e5d4row4_col1 {\n",
       "            background-color:  #008000;\n",
       "            color:  #f1f1f1;\n",
       "        }    #T_4f90b731_038b_11ec_98a3_28cdc446e5d4row4_col2 {\n",
       "            background-color:  #209220;\n",
       "            color:  #000000;\n",
       "        }    #T_4f90b731_038b_11ec_98a3_28cdc446e5d4row4_col3 {\n",
       "            background-color:  #008000;\n",
       "            color:  #f1f1f1;\n",
       "        }    #T_4f90b731_038b_11ec_98a3_28cdc446e5d4row4_col4 {\n",
       "            background-color:  #3aa03a;\n",
       "            color:  #000000;\n",
       "        }    #T_4f90b731_038b_11ec_98a3_28cdc446e5d4row4_col5 {\n",
       "            background-color:  #008000;\n",
       "            color:  #f1f1f1;\n",
       "        }    #T_4f90b731_038b_11ec_98a3_28cdc446e5d4row4_col6 {\n",
       "            background-color:  #279527;\n",
       "            color:  #000000;\n",
       "        }</style><table id=\"T_4f90b731_038b_11ec_98a3_28cdc446e5d4\" ><thead>    <tr>        <th class=\"blank level0\" ></th>        <th class=\"col_heading level0 col0\" >names</th>        <th class=\"col_heading level0 col1\" >train_score</th>        <th class=\"col_heading level0 col2\" >test_score</th>        <th class=\"col_heading level0 col3\" >precision_score(train)</th>        <th class=\"col_heading level0 col4\" >precision_score(test)</th>        <th class=\"col_heading level0 col5\" >recall_score(train)</th>        <th class=\"col_heading level0 col6\" >recall_score(test)</th>    </tr></thead><tbody>\n",
       "                <tr>\n",
       "                        <th id=\"T_4f90b731_038b_11ec_98a3_28cdc446e5d4level0_row0\" class=\"row_heading level0 row0\" >0</th>\n",
       "                        <td id=\"T_4f90b731_038b_11ec_98a3_28cdc446e5d4row0_col0\" class=\"data row0 col0\" >SVM</td>\n",
       "                        <td id=\"T_4f90b731_038b_11ec_98a3_28cdc446e5d4row0_col1\" class=\"data row0 col1\" >0.994196</td>\n",
       "                        <td id=\"T_4f90b731_038b_11ec_98a3_28cdc446e5d4row0_col2\" class=\"data row0 col2\" >0.959381</td>\n",
       "                        <td id=\"T_4f90b731_038b_11ec_98a3_28cdc446e5d4row0_col3\" class=\"data row0 col3\" >1.000000</td>\n",
       "                        <td id=\"T_4f90b731_038b_11ec_98a3_28cdc446e5d4row0_col4\" class=\"data row0 col4\" >1.000000</td>\n",
       "                        <td id=\"T_4f90b731_038b_11ec_98a3_28cdc446e5d4row0_col5\" class=\"data row0 col5\" >0.993434</td>\n",
       "                        <td id=\"T_4f90b731_038b_11ec_98a3_28cdc446e5d4row0_col6\" class=\"data row0 col6\" >0.954693</td>\n",
       "            </tr>\n",
       "            <tr>\n",
       "                        <th id=\"T_4f90b731_038b_11ec_98a3_28cdc446e5d4level0_row1\" class=\"row_heading level0 row1\" >1</th>\n",
       "                        <td id=\"T_4f90b731_038b_11ec_98a3_28cdc446e5d4row1_col0\" class=\"data row1 col0\" >Naive_bayes</td>\n",
       "                        <td id=\"T_4f90b731_038b_11ec_98a3_28cdc446e5d4row1_col1\" class=\"data row1 col1\" >0.995405</td>\n",
       "                        <td id=\"T_4f90b731_038b_11ec_98a3_28cdc446e5d4row1_col2\" class=\"data row1 col2\" >0.955513</td>\n",
       "                        <td id=\"T_4f90b731_038b_11ec_98a3_28cdc446e5d4row1_col3\" class=\"data row1 col3\" >0.997797</td>\n",
       "                        <td id=\"T_4f90b731_038b_11ec_98a3_28cdc446e5d4row1_col4\" class=\"data row1 col4\" >0.960452</td>\n",
       "                        <td id=\"T_4f90b731_038b_11ec_98a3_28cdc446e5d4row1_col5\" class=\"data row1 col5\" >0.996973</td>\n",
       "                        <td id=\"T_4f90b731_038b_11ec_98a3_28cdc446e5d4row1_col6\" class=\"data row1 col6\" >0.987224</td>\n",
       "            </tr>\n",
       "            <tr>\n",
       "                        <th id=\"T_4f90b731_038b_11ec_98a3_28cdc446e5d4level0_row2\" class=\"row_heading level0 row2\" >2</th>\n",
       "                        <td id=\"T_4f90b731_038b_11ec_98a3_28cdc446e5d4row2_col0\" class=\"data row2 col0\" >Logistic_regression</td>\n",
       "                        <td id=\"T_4f90b731_038b_11ec_98a3_28cdc446e5d4row2_col1\" class=\"data row2 col1\" >0.995163</td>\n",
       "                        <td id=\"T_4f90b731_038b_11ec_98a3_28cdc446e5d4row2_col2\" class=\"data row2 col2\" >0.977756</td>\n",
       "                        <td id=\"T_4f90b731_038b_11ec_98a3_28cdc446e5d4row2_col3\" class=\"data row2 col3\" >1.000000</td>\n",
       "                        <td id=\"T_4f90b731_038b_11ec_98a3_28cdc446e5d4row2_col4\" class=\"data row2 col4\" >1.000000</td>\n",
       "                        <td id=\"T_4f90b731_038b_11ec_98a3_28cdc446e5d4row2_col5\" class=\"data row2 col5\" >0.994522</td>\n",
       "                        <td id=\"T_4f90b731_038b_11ec_98a3_28cdc446e5d4row2_col6\" class=\"data row2 col6\" >0.974670</td>\n",
       "            </tr>\n",
       "            <tr>\n",
       "                        <th id=\"T_4f90b731_038b_11ec_98a3_28cdc446e5d4level0_row3\" class=\"row_heading level0 row3\" >3</th>\n",
       "                        <td id=\"T_4f90b731_038b_11ec_98a3_28cdc446e5d4row3_col0\" class=\"data row3 col0\" >k-nearest_neighbor</td>\n",
       "                        <td id=\"T_4f90b731_038b_11ec_98a3_28cdc446e5d4row3_col1\" class=\"data row3 col1\" >0.940266</td>\n",
       "                        <td id=\"T_4f90b731_038b_11ec_98a3_28cdc446e5d4row3_col2\" class=\"data row3 col2\" >0.903288</td>\n",
       "                        <td id=\"T_4f90b731_038b_11ec_98a3_28cdc446e5d4row3_col3\" class=\"data row3 col3\" >1.000000</td>\n",
       "                        <td id=\"T_4f90b731_038b_11ec_98a3_28cdc446e5d4row3_col4\" class=\"data row3 col4\" >1.000000</td>\n",
       "                        <td id=\"T_4f90b731_038b_11ec_98a3_28cdc446e5d4row3_col5\" class=\"data row3 col5\" >0.936307</td>\n",
       "                        <td id=\"T_4f90b731_038b_11ec_98a3_28cdc446e5d4row3_col6\" class=\"data row3 col6\" >0.898477</td>\n",
       "            </tr>\n",
       "            <tr>\n",
       "                        <th id=\"T_4f90b731_038b_11ec_98a3_28cdc446e5d4level0_row4\" class=\"row_heading level0 row4\" >4</th>\n",
       "                        <td id=\"T_4f90b731_038b_11ec_98a3_28cdc446e5d4row4_col0\" class=\"data row4 col0\" >Decision_tree</td>\n",
       "                        <td id=\"T_4f90b731_038b_11ec_98a3_28cdc446e5d4row4_col1\" class=\"data row4 col1\" >1.000000</td>\n",
       "                        <td id=\"T_4f90b731_038b_11ec_98a3_28cdc446e5d4row4_col2\" class=\"data row4 col2\" >0.967118</td>\n",
       "                        <td id=\"T_4f90b731_038b_11ec_98a3_28cdc446e5d4row4_col3\" class=\"data row4 col3\" >1.000000</td>\n",
       "                        <td id=\"T_4f90b731_038b_11ec_98a3_28cdc446e5d4row4_col4\" class=\"data row4 col4\" >0.989831</td>\n",
       "                        <td id=\"T_4f90b731_038b_11ec_98a3_28cdc446e5d4row4_col5\" class=\"data row4 col5\" >1.000000</td>\n",
       "                        <td id=\"T_4f90b731_038b_11ec_98a3_28cdc446e5d4row4_col6\" class=\"data row4 col6\" >0.972253</td>\n",
       "            </tr>\n",
       "    </tbody></table>"
      ],
      "text/plain": [
       "<pandas.io.formats.style.Styler at 0x1f8baa77070>"
      ]
     },
     "execution_count": 46,
     "metadata": {},
     "output_type": "execute_result"
    }
   ],
   "source": [
    "import seaborn as sns\n",
    "cm = sns.light_palette(\"green\",as_cmap=True)\n",
    "s = df.style.background_gradient(cmap=cm)\n",
    "s"
   ]
  },
  {
   "cell_type": "code",
   "execution_count": 47,
   "metadata": {},
   "outputs": [
    {
     "data": {
      "image/png": "[encoded data removed]",
      "text/plain": [
       "<Figure size 432x288 with 1 Axes>"
      ]
     },
     "metadata": {},
     "output_type": "display_data"
    }
   ],
   "source": [
    "sns.set(style='whitegrid')\n",
    "ax = sns.barplot(y='names',x='train_score',data=df)\n"
   ]
  },
  {
   "cell_type": "code",
   "execution_count": 48,
   "metadata": {},
   "outputs": [
    {
     "data": {
      "image/png": "[encoded data removed]",
      "text/plain": [
       "<Figure size 432x288 with 1 Axes>"
      ]
     },
     "metadata": {},
     "output_type": "display_data"
    }
   ],
   "source": [
    "sns.set(style='whitegrid')\n",
    "ax = sns.barplot(y='names',x='test_score',data=df)"
   ]
  },
  {
   "cell_type": "code",
   "execution_count": 49,
   "metadata": {},
   "outputs": [
    {
     "data": {
      "image/png": "[encoded data removed]",
      "text/plain": [
       "<Figure size 432x288 with 1 Axes>"
      ]
     },
     "metadata": {},
     "output_type": "display_data"
    }
   ],
   "source": [
    "sns.set(style='whitegrid')\n",
    "ax = sns.barplot(y='names',x='precision_score(test)',data=df)"
   ]
  },
  {
   "cell_type": "code",
   "execution_count": 50,
   "metadata": {},
   "outputs": [
    {
     "data": {
      "image/png": "[encoded data removed]",
      "text/plain": [
       "<Figure size 432x288 with 1 Axes>"
      ]
     },
     "metadata": {},
     "output_type": "display_data"
    }
   ],
   "source": [
    "sns.set(style='whitegrid')\n",
    "ax = sns.barplot(y='names',x='precision_score(train)',data=df)"
   ]
  },
  {
   "cell_type": "code",
   "execution_count": 51,
   "metadata": {},
   "outputs": [
    {
     "data": {
      "image/png": "[encoded data removed]",
      "text/plain": [
       "<Figure size 432x288 with 1 Axes>"
      ]
     },
     "metadata": {},
     "output_type": "display_data"
    }
   ],
   "source": [
    "sns.set(style='whitegrid')\n",
    "ax = sns.barplot(y='names',x='recall_score(train)',data=df)"
   ]
  },
  {
   "cell_type": "code",
   "execution_count": 52,
   "metadata": {},
   "outputs": [
    {
     "data": {
      "image/png": "[encoded data removed]",
      "text/plain": [
       "<Figure size 432x288 with 1 Axes>"
      ]
     },
     "metadata": {},
     "output_type": "display_data"
    }
   ],
   "source": [
    "sns.set(style='whitegrid')\n",
    "ax = sns.barplot(y='names',x='recall_score(test)',data=df)"
   ]
  },
  {
   "cell_type": "code",
   "execution_count": null,
   "metadata": {},
   "outputs": [],
   "source": []
  },
  {
   "cell_type": "code",
   "execution_count": null,
   "metadata": {},
   "outputs": [],
   "source": []
  }
 ],
 "metadata": {
  "kernelspec": {
   "display_name": "Python 3",
   "language": "python",
   "name": "python3"
  },
  "language_info": {
   "codemirror_mode": {
    "name": "ipython",
    "version": 3
   },
   "file_extension": ".py",
   "mimetype": "text/x-python",
   "name": "python",
   "nbconvert_exporter": "python",
   "pygments_lexer": "ipython3",
   "version": "3.8.3"
  }
 },
 "nbformat": 4,
 "nbformat_minor": 4
}
